{
 "cells": [
  {
   "cell_type": "code",
   "execution_count": 13,
   "metadata": {},
   "outputs": [],
   "source": [
    "import  numpy as np\n",
    "import gym\n",
    "import os"
   ]
  },
  {
   "cell_type": "markdown",
   "metadata": {},
   "source": [
    "## gym spaces"
   ]
  },
  {
   "cell_type": "code",
   "execution_count": 2,
   "metadata": {},
   "outputs": [
    {
     "name": "stdout",
     "output_type": "stream",
     "text": [
      "(4,) 2\n"
     ]
    }
   ],
   "source": [
    "env_name = 'CartPole-v0'\n",
    "env = gym.make(env_name)\n",
    "observation_space = env.observation_space\n",
    "action_space = env.action_space\n",
    "print(observation_space.shape, action_space.n)"
   ]
  },
  {
   "cell_type": "markdown",
   "metadata": {},
   "source": [
    "## python colorize message"
   ]
  },
  {
   "cell_type": "code",
   "execution_count": 18,
   "metadata": {},
   "outputs": [],
   "source": [
    "color2num = dict(\n",
    "    gray=30,\n",
    "    red=31,\n",
    "    green=32,\n",
    "    yellow=33,\n",
    "    blue=34,\n",
    "    magenta=35,\n",
    "    cyan=36,\n",
    "    white=37,\n",
    "    crimson=38\n",
    ")\n",
    "\n",
    "def colorize(string, color, bold=False, highlight=False):\n",
    "    \"\"\"\n",
    "    Colorize a string.\n",
    "\n",
    "    This function was originally written by John Schulman.\n",
    "    \"\"\"\n",
    "    attr = []\n",
    "    num = color2num[color]\n",
    "    if highlight: num += 10\n",
    "    attr.append(str(num))\n",
    "    if bold: attr.append('1')\n",
    "    return '\\x1b[%sm%s\\x1b[0m' % (';'.join(attr), string)\n",
    "    # return '%sm%s0m' % (';'.join(attr), string)\n"
   ]
  },
  {
   "cell_type": "code",
   "execution_count": 29,
   "metadata": {},
   "outputs": [
    {
     "name": "stdout",
     "output_type": "stream",
     "text": [
      "\u001b[32mthis is green\u001b[0m\n",
      "\u001b[32;1mthis is bold green\u001b[0m\n",
      "\u001b[42mthis is highlight green\u001b[0m\n"
     ]
    }
   ],
   "source": [
    "print(colorize('this is green', color='green'))\n",
    "print(colorize('this is bold green', color='green', bold=True))\n",
    "print(colorize('this is highlight green', color='green', highlight=True))"
   ]
  },
  {
   "cell_type": "code",
   "execution_count": 16,
   "metadata": {},
   "outputs": [],
   "source": [
    "def has_colors():\n",
    "    if ((os.getenv(\"CLICOLOR\", \"1\") != \"0\" and sys.stdout.isatty()) or\n",
    "        os.getenv(\"CLICOLOR_FORCE\", \"0\") != \"0\"):\n",
    "        return True\n",
    "    else:\n",
    "        return False"
   ]
  },
  {
   "cell_type": "code",
   "execution_count": 17,
   "metadata": {},
   "outputs": [
    {
     "name": "stdout",
     "output_type": "stream",
     "text": [
      "To reset attributes: \\x1b[0m\n",
      "\n",
      "\u001b[1;30m\\x1b[1;30m\u001b[0m \u001b[0;30m\\x1b[0;30m\u001b[0m \u001b[1;40;30m\\x1b[1;30;40m\u001b[0m\n",
      "\u001b[1;31m\\x1b[1;31m\u001b[0m \u001b[0;31m\\x1b[0;31m\u001b[0m \u001b[1;41;31m\\x1b[1;31;41m\u001b[0m\n",
      "\u001b[1;32m\\x1b[1;32m\u001b[0m \u001b[0;32m\\x1b[0;32m\u001b[0m \u001b[1;42;32m\\x1b[1;32;42m\u001b[0m\n",
      "\u001b[1;33m\\x1b[1;33m\u001b[0m \u001b[0;33m\\x1b[0;33m\u001b[0m \u001b[1;43;33m\\x1b[1;33;43m\u001b[0m\n",
      "\u001b[1;34m\\x1b[1;34m\u001b[0m \u001b[0;34m\\x1b[0;34m\u001b[0m \u001b[1;44;34m\\x1b[1;34;44m\u001b[0m\n",
      "\u001b[1;35m\\x1b[1;35m\u001b[0m \u001b[0;35m\\x1b[0;35m\u001b[0m \u001b[1;45;35m\\x1b[1;35;45m\u001b[0m\n",
      "\u001b[1;36m\\x1b[1;36m\u001b[0m \u001b[0;36m\\x1b[0;36m\u001b[0m \u001b[1;46;36m\\x1b[1;36;46m\u001b[0m\n",
      "\u001b[1;37m\\x1b[1;37m\u001b[0m \u001b[0;37m\\x1b[0;37m\u001b[0m \u001b[1;47;37m\\x1b[1;37;47m\u001b[0m\n"
     ]
    }
   ],
   "source": [
    "RESET = \"\\x1b[0m\"\n",
    "print(\"To reset attributes: \\\\x1b[0m\\n\")\n",
    "for i in range(0, 8):\n",
    "    print(\"\\x1b[1;3{0}m\\\\x1b[1;3{0}m{1} \\x1b[0;3{0}m\\\\x1b[0;3{0}m{1} \"\n",
    "          \"\\x1b[1;4{0};3{0}m\\\\x1b[1;3{0};4{0}m{1}\".format(i, RESET))\n"
   ]
  },
  {
   "cell_type": "code",
   "execution_count": 42,
   "metadata": {},
   "outputs": [
    {
     "name": "stdout",
     "output_type": "stream",
     "text": [
      "\u001b[1;31;43mmy_msg \u001b[0m aaa\n"
     ]
    }
   ],
   "source": [
    "print(\"\\x1b[1;31;43mmy_msg \\x1b[0m aaa\")"
   ]
  },
  {
   "cell_type": "code",
   "execution_count": null,
   "metadata": {},
   "outputs": [],
   "source": []
  }
 ],
 "metadata": {
  "kernelspec": {
   "display_name": "Python 3",
   "language": "python",
   "name": "python3"
  },
  "language_info": {
   "codemirror_mode": {
    "name": "ipython",
    "version": 3
   },
   "file_extension": ".py",
   "mimetype": "text/x-python",
   "name": "python",
   "nbconvert_exporter": "python",
   "pygments_lexer": "ipython3",
   "version": "3.7.4"
  }
 },
 "nbformat": 4,
 "nbformat_minor": 2
}
